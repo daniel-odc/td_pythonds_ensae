{
 "cells": [
  {
   "cell_type": "code",
   "id": "initial_id",
   "metadata": {
    "collapsed": true,
    "ExecuteTime": {
     "end_time": "2025-09-15T16:19:18.740495Z",
     "start_time": "2025-09-15T16:19:17.942927Z"
    }
   },
   "source": [
    "import pandas as pd\n",
    "df = pd.read_csv('https://www.insee.fr/fr/statistiques/fichier/6800675/v_commune_2023.csv')\n",
    "df.head(1)"
   ],
   "outputs": [
    {
     "data": {
      "text/plain": [
       "  TYPECOM    COM   REG DEP CTCD  ARR  TNCC                    NCC  \\\n",
       "0     COM  01001  84.0  01  01D  012     5  ABERGEMENT CLEMENCIAT   \n",
       "\n",
       "                  NCCENR                  LIBELLE   CAN  COMPARENT  \n",
       "0  Abergement-Clémenciat  L'Abergement-Clémenciat  0108        NaN  "
      ],
      "text/html": [
       "<div>\n",
       "<style scoped>\n",
       "    .dataframe tbody tr th:only-of-type {\n",
       "        vertical-align: middle;\n",
       "    }\n",
       "\n",
       "    .dataframe tbody tr th {\n",
       "        vertical-align: top;\n",
       "    }\n",
       "\n",
       "    .dataframe thead th {\n",
       "        text-align: right;\n",
       "    }\n",
       "</style>\n",
       "<table border=\"1\" class=\"dataframe\">\n",
       "  <thead>\n",
       "    <tr style=\"text-align: right;\">\n",
       "      <th></th>\n",
       "      <th>TYPECOM</th>\n",
       "      <th>COM</th>\n",
       "      <th>REG</th>\n",
       "      <th>DEP</th>\n",
       "      <th>CTCD</th>\n",
       "      <th>ARR</th>\n",
       "      <th>TNCC</th>\n",
       "      <th>NCC</th>\n",
       "      <th>NCCENR</th>\n",
       "      <th>LIBELLE</th>\n",
       "      <th>CAN</th>\n",
       "      <th>COMPARENT</th>\n",
       "    </tr>\n",
       "  </thead>\n",
       "  <tbody>\n",
       "    <tr>\n",
       "      <th>0</th>\n",
       "      <td>COM</td>\n",
       "      <td>01001</td>\n",
       "      <td>84.0</td>\n",
       "      <td>01</td>\n",
       "      <td>01D</td>\n",
       "      <td>012</td>\n",
       "      <td>5</td>\n",
       "      <td>ABERGEMENT CLEMENCIAT</td>\n",
       "      <td>Abergement-Clémenciat</td>\n",
       "      <td>L'Abergement-Clémenciat</td>\n",
       "      <td>0108</td>\n",
       "      <td>NaN</td>\n",
       "    </tr>\n",
       "  </tbody>\n",
       "</table>\n",
       "</div>"
      ]
     },
     "execution_count": 3,
     "metadata": {},
     "output_type": "execute_result"
    }
   ],
   "execution_count": 3
  },
  {
   "metadata": {
    "ExecuteTime": {
     "end_time": "2025-09-15T16:19:23.132408Z",
     "start_time": "2025-09-15T16:19:23.123349Z"
    }
   },
   "cell_type": "code",
   "source": [
    "# # Classe principale:\n",
    "class Mother:\n",
    "    def __init__(self, param):\n",
    "        self.param = param\n",
    "        self._attribut_prive = 2\n",
    "\n",
    "    def action(self):\n",
    "        print(self.param)\n",
    "\n",
    "# # Classe fille (hérite de la classe principale):\n",
    "class Daughter(Mother):\n",
    "    def __init__(self, param):\n",
    "        super().__init__(param=param)\n",
    "        self.param_fille = 'param fille'\n",
    "        \n",
    "# # Instanciation d'un objet de la classe fille:\n",
    "d = Daughter(param='param entrée')\n",
    "d.action() # la fille hérite des actions implémentées dans la classe mère"
   ],
   "id": "a23cda90b26a7a5c",
   "outputs": [
    {
     "name": "stdout",
     "output_type": "stream",
     "text": [
      "param entrée\n"
     ]
    }
   ],
   "execution_count": 4
  }
 ],
 "metadata": {
  "kernelspec": {
   "display_name": "Python 3",
   "language": "python",
   "name": "python3"
  },
  "language_info": {
   "codemirror_mode": {
    "name": "ipython",
    "version": 2
   },
   "file_extension": ".py",
   "mimetype": "text/x-python",
   "name": "python",
   "nbconvert_exporter": "python",
   "pygments_lexer": "ipython2",
   "version": "2.7.6"
  }
 },
 "nbformat": 4,
 "nbformat_minor": 5
}
