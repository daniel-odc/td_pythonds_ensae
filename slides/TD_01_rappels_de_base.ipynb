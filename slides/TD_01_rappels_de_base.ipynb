{
 "cells": [
  {
   "cell_type": "code",
   "id": "initial_id",
   "metadata": {
    "collapsed": true,
    "ExecuteTime": {
     "end_time": "2025-09-08T15:43:38.113923Z",
     "start_time": "2025-09-08T15:43:38.110708Z"
    }
   },
   "source": [
    ""
   ],
   "outputs": [],
   "execution_count": null
  },
  {
   "metadata": {},
   "cell_type": "markdown",
   "source": [
    "# TD01: Rappels de base\n",
    "\n",
    "## Intro\n",
    "\n",
    "* Cours `Python` de [Lino Galiana](https://github.com/linogaliana/python-datascientist/tree/main), sous environnement [SSP Cloud](https://www.sspcloud.fr/)\n",
    "* Questions à dmarin@open-dc.com\n",
    "* Programme:\n",
    "    * TD 01 - Rappels de base\n",
    "    * TD 02 - `Numpy`, `Pandas` et `GeoPandas`\n",
    "    * TD 03 - `Git`\n",
    "    * TD 04 - API et webscrapping\n",
    "    * TD 05 - Machine learning\n",
    "    * TD 06 - Machine learning (2)\n",
    "    * TD 07 - Introduction au NLP      \n",
    "\n",
    "---\n",
    "\n",
    "## Environnements Python, gestionnaire de modules et IDE\n",
    "\n",
    "Pour programmer en `Python` on a besoin:\n",
    "* d'un exécutable `Python` (installé par défaut sur Linux et Mac), à installer sur Windows pour un environnement local.\n",
    "* d'un environnement de développement: IDE (`VS Code`, `PyCharm`, `Spyder` etc.)\n",
    "* d'un gestionnaire de modules (`pip`, `conda`)\n",
    "\n",
    "Cet écosystème peut être local ou dans le cloud (`Google Colab`, `SSP Cloud`).\n",
    "\n",
    "Dans le cadre du cours ==> écosystème **cloud** sous **`SSP Cloud`** avec IDE **`VS Code`**.\n",
    "\n",
    "*Note:* En pratique on crée un environnement de développement local, avec un *environnement virtuel*: il s'agit d'un environnement de développement propre au projet, avec ses propres versions de modules, communiquées grâce au fichier `requirements.txt`. \n",
    "\n",
    "*Application:* Créer une instance SSP Cloud:\n",
    "\n",
    "> Se connecter sur le [`Datalab` du SSP Cloud](http://datalab.sspcloud.fr/)\n",
    "> My Services / + New service\n",
    "> Lancer un service `VS Code`\n",
    "> Copier la clé de sécurité dans le presse-papier\n",
    "> Créer un nouveau notebook `jupyter`\n",
    "> Tester les commandes du TD\n",
    "> Supprimer le service à la fin du TD!\n",
    "\n",
    "<img src=\"img/01_ssp_cloud_01_connection_page.jpg\" width=\"25%\">\n",
    "<img src=\"img/01_ssp_cloud_02_services.jpg\" width=\"25%\">\n",
    "<img src=\"img/01_ssp_cloud_03_vscode.jpg\" width=\"25%\">\n",
    "<img src=\"img/01_ssp_cloud_04_link.jpg\" width=\"25%\">\n",
    "<img src=\"img/01_ssp_cloud_05_new_file.jpg\" width=\"25%\">\n",
    "<img src=\"img/01_ssp_cloud_06_notebook_example.jpg\" width=\"25%\">\n",
    "<img src=\"img/01_ssp_cloud_07_suppresion.jpg\" width=\"25%\">\n",
    "\n",
    "---\n",
    "\n",
    "## Rappel des bases du langage Python\n",
    "\n",
    "*Note: * On ne revient pas ici sur les notions de base de programmation telles que les variables, fonctions, boucles, conditions. On se concentre sur les spécificités de `Python` par rapport aux autres langages.\n",
    "\n",
    "### Types de base\n",
    "\n",
    "```{python}\n",
    "# Les types de base: int, float, str\n",
    "a = 2\n",
    "b = 3.14\n",
    "c = 'texte'\n",
    "\n",
    "# variables non allouées à un type donné:\n",
    "a = 'texte'  # a passe de int à str sans problème\n",
    "```\n",
    "\n",
    "### Listes, dictionnaires et tuples\n",
    "\n",
    "#### Listes:"
   ],
   "id": "335df8ed75dd5745"
  },
  {
   "metadata": {
    "ExecuteTime": {
     "end_time": "2025-09-08T15:43:38.200155Z",
     "start_time": "2025-09-08T15:43:38.191163Z"
    }
   },
   "cell_type": "code",
   "source": [
    "li = [2, 3, 4]      # liste de 3 éléments\n",
    "print(f'1ère valeur: {li[0]}')        # l'index commence à 0\n",
    "li.append(5)        # ajoute un élément\n",
    "print(li)\n",
    "li.extend([6, 7])   # ajoute une liste à la liste\n",
    "print(li)\n",
    "li.pop(4)           # retire le 4ème élément de la liste (et non l'élément 4 de la liste!)\n",
    "print(li)\n",
    "# # boucle sur les éléments:\n",
    "for el in li:\n",
    "    print(el)\n",
    "# # boucle avec conservation des index:\n",
    "for ix, el in enumerate(li):\n",
    "    print(f'index {ix}, valeur: {el}')"
   ],
   "id": "811ac23b1fcbe367",
   "outputs": [
    {
     "name": "stdout",
     "output_type": "stream",
     "text": [
      "1ère valeur: 2\n",
      "[2, 3, 4, 5]\n",
      "[2, 3, 4, 5, 6, 7]\n",
      "[2, 3, 4, 5, 7]\n",
      "2\n",
      "3\n",
      "4\n",
      "5\n",
      "7\n",
      "index 0, valeur: 2\n",
      "index 1, valeur: 3\n",
      "index 2, valeur: 4\n",
      "index 3, valeur: 5\n",
      "index 4, valeur: 7\n"
     ]
    }
   ],
   "execution_count": 1
  },
  {
   "metadata": {},
   "cell_type": "markdown",
   "source": "#### Dictionnaires",
   "id": "c86a4046ce3082f4"
  },
  {
   "metadata": {
    "ExecuteTime": {
     "end_time": "2025-09-08T15:43:38.563525Z",
     "start_time": "2025-09-08T15:43:38.558270Z"
    }
   },
   "cell_type": "code",
   "source": [
    "di = {'nom': 'Crusoé', 'prénom': 'Robinson', 'âge': 42}\n",
    "print(di)\n",
    "di['nom'] = 'Stévenin'  # les clés sont uniques\n",
    "print(di) \n",
    "prenom = di.get('prénom', '???')        # clé existante\n",
    "adresse = di.get('adresse', '???')      # clé manquante\n",
    "print(f'prénom:\\t{prenom},\\nadresse:\\t{adresse}')"
   ],
   "id": "969e1825b43decef",
   "outputs": [
    {
     "name": "stdout",
     "output_type": "stream",
     "text": [
      "{'nom': 'Crusoé', 'prénom': 'Robinson', 'âge': 42}\n",
      "{'nom': 'Stévenin', 'prénom': 'Robinson', 'âge': 42}\n",
      "prénom:\tRobinson,\n",
      "adresse:\t???\n"
     ]
    }
   ],
   "execution_count": 2
  },
  {
   "metadata": {},
   "cell_type": "markdown",
   "source": "#### Tuples:",
   "id": "bcdd97a134f06a48"
  },
  {
   "metadata": {
    "ExecuteTime": {
     "end_time": "2025-09-08T15:43:38.932368Z",
     "start_time": "2025-09-08T15:43:38.585094Z"
    }
   },
   "cell_type": "code",
   "source": [
    "tu = (49.4545, 2.4545)  # tuple à 2 éléments\n",
    "print(f'{tu[0]}, {tu[1]}')\n",
    "# tu[2] = 0               # le nombre d'éléments d'un tuple est invariable (pas de méthodes `append` ou `pop`)\n",
    "tu[1] = 0               # le contenu d'un tuple n'est pas modifiable"
   ],
   "id": "f0e01deb9a5ecb57",
   "outputs": [
    {
     "name": "stdout",
     "output_type": "stream",
     "text": [
      "49.4545, 2.4545\n"
     ]
    },
    {
     "ename": "TypeError",
     "evalue": "'tuple' object does not support item assignment",
     "output_type": "error",
     "traceback": [
      "\u001B[1;31m---------------------------------------------------------------------------\u001B[0m",
      "\u001B[1;31mTypeError\u001B[0m                                 Traceback (most recent call last)",
      "Cell \u001B[1;32mIn[3], line 4\u001B[0m\n\u001B[0;32m      2\u001B[0m \u001B[38;5;28mprint\u001B[39m(\u001B[38;5;124mf\u001B[39m\u001B[38;5;124m'\u001B[39m\u001B[38;5;132;01m{\u001B[39;00mtu[\u001B[38;5;241m0\u001B[39m]\u001B[38;5;132;01m}\u001B[39;00m\u001B[38;5;124m, \u001B[39m\u001B[38;5;132;01m{\u001B[39;00mtu[\u001B[38;5;241m1\u001B[39m]\u001B[38;5;132;01m}\u001B[39;00m\u001B[38;5;124m'\u001B[39m)\n\u001B[0;32m      3\u001B[0m \u001B[38;5;66;03m# tu[2] = 0               # le nombre d'éléments d'un tuple est invariable (pas de méthodes `append` ou `pop`)\u001B[39;00m\n\u001B[1;32m----> 4\u001B[0m \u001B[43mtu\u001B[49m\u001B[43m[\u001B[49m\u001B[38;5;241;43m1\u001B[39;49m\u001B[43m]\u001B[49m \u001B[38;5;241m=\u001B[39m \u001B[38;5;241m0\u001B[39m               \u001B[38;5;66;03m# le contenu d'un tuple n'est pas modifiable\u001B[39;00m\n",
      "\u001B[1;31mTypeError\u001B[0m: 'tuple' object does not support item assignment"
     ]
    }
   ],
   "execution_count": 3
  },
  {
   "metadata": {},
   "cell_type": "markdown",
   "source": [
    "---\n",
    "## Mutabilité\n",
    "\n",
    "En `Python`, seuls les types de base `int`, `float` et `str` ne sont pas mutables."
   ],
   "id": "555ff809f4499fbe"
  },
  {
   "metadata": {
    "ExecuteTime": {
     "end_time": "2025-09-08T15:43:38.940381700Z",
     "start_time": "2025-09-08T15:31:13.027881Z"
    }
   },
   "cell_type": "code",
   "source": [
    "a = 2\n",
    "b = a\n",
    "b = 3\n",
    "print(f'a: {a}, b: {b}')  # le contenu de a n'a pas changé: une copie de a a été réalisée pour être alouée à b (idem si a est un float ou str)\n",
    "\n",
    "li1 = [1, 2]\n",
    "print(f'li1: {li1}')\n",
    "li2 = li1\n",
    "li2[0] = 0\n",
    "print(f'li2: {li2}\\nli1: {li1}')  # le contenu de li1 a été modifié lorsque li2 a été modifié\n",
    "\n",
    "# # Solution: créer une copie de l'objet mutable:\n",
    "li3 = li1.copy()\n",
    "li3[0] = 30\n",
    "print(f'li3: {li3}\\nli1: {li1}')  # le contenu de li1 n'a pas été modifié lorsque li3 a été modifié"
   ],
   "id": "189c0b5cd41b614",
   "outputs": [
    {
     "name": "stdout",
     "output_type": "stream",
     "text": [
      "a: 2, b: 3\n",
      "li1: [1, 2]\n",
      "li1: [0, 2]\n",
      "li2: [0, 2]\n",
      "li1: [0, 2]\n",
      "li3: [30, 2]\n"
     ]
    }
   ],
   "execution_count": 13
  },
  {
   "metadata": {},
   "cell_type": "markdown",
   "source": [
    "---\n",
    "## Imports de modules\n",
    "TO DO\n",
    "\n",
    "---\n",
    "## Arborescence de projet\n",
    "TO DO\n",
    "\n",
    "---\n",
    "## Classes et programmation orientée objet (POO ou OOP)\n",
    "TO DO\n",
    "\n",
    "---\n",
    "## Conventions PEP-8\n",
    "\n",
    "TO DO"
   ],
   "id": "526f66d0c10cc4cc"
  }
 ],
 "metadata": {
  "kernelspec": {
   "display_name": "Python 3",
   "language": "python",
   "name": "python3"
  },
  "language_info": {
   "codemirror_mode": {
    "name": "ipython",
    "version": 2
   },
   "file_extension": ".py",
   "mimetype": "text/x-python",
   "name": "python",
   "nbconvert_exporter": "python",
   "pygments_lexer": "ipython2",
   "version": "2.7.6"
  }
 },
 "nbformat": 4,
 "nbformat_minor": 5
}
